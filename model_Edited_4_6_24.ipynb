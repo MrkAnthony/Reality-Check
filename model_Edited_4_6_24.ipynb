{
  "nbformat": 4,
  "nbformat_minor": 0,
  "metadata": {
    "colab": {
      "provenance": [],
      "gpuType": "T4",
      "include_colab_link": true
    },
    "kernelspec": {
      "name": "python3",
      "display_name": "Python 3"
    },
    "language_info": {
      "name": "python"
    },
    "accelerator": "GPU"
  },
  "cells": [
    {
      "cell_type": "markdown",
      "metadata": {
        "id": "view-in-github",
        "colab_type": "text"
      },
      "source": [
        "<a href=\"https://colab.research.google.com/github/aquamarine-28/Reality-Check/blob/main/model_Edited_4_6_24.ipynb\" target=\"_parent\"><img src=\"https://colab.research.google.com/assets/colab-badge.svg\" alt=\"Open In Colab\"/></a>"
      ]
    },
    {
      "cell_type": "markdown",
      "source": [
        "### Reality Check\n"
      ],
      "metadata": {
        "id": "wHEbfCmSmq5h"
      }
    },
    {
      "cell_type": "markdown",
      "source": [
        "An Instance Segementation model that detects instances of AI-generated features and/or manipulation in images of people (ie. deepfakes).\n",
        "\n",
        "(Link y'alls GitHubs or LinkedIns...or we could just delete this tbh)\n",
        "\n",
        "By: Mark-Anthony Delva,\n",
        "    [Nmesoma Duru](https://github.com/aquamarine-28), and\n",
        "    Micheal Johnson"
      ],
      "metadata": {
        "id": "NsKOsB9-mvv_"
      }
    },
    {
      "cell_type": "code",
      "execution_count": null,
      "metadata": {
        "id": "7vIZmGULEunq"
      },
      "outputs": [],
      "source": [
        "!pip install ultralytics\n",
        "!pip install keras\n",
        "!pip install roboflow"
      ]
    },
    {
      "cell_type": "markdown",
      "source": [
        "# Import necessary modules"
      ],
      "metadata": {
        "id": "G9lxUub5NAGm"
      }
    },
    {
      "cell_type": "code",
      "source": [
        "from google.colab import userdata\n",
        "k1 = userdata.get('api_key')\n",
        "k2 = userdata.get('api_key_Mi')\n",
        "\n",
        "import os\n",
        "import ultralytics\n",
        "from ultralytics import YOLO\n",
        "from IPython import display\n",
        "from IPython.display import display, Image\n",
        "from roboflow import Roboflow\n",
        "\n",
        "ultralytics.checks()"
      ],
      "metadata": {
        "colab": {
          "base_uri": "https://localhost:8080/"
        },
        "id": "ShjVp_izHYIn",
        "outputId": "99869198-50da-4624-e93e-98fd2430be4b"
      },
      "execution_count": null,
      "outputs": [
        {
          "output_type": "stream",
          "name": "stdout",
          "text": [
            "Ultralytics YOLOv8.1.43 🚀 Python-3.10.12 torch-2.2.1+cu121 CUDA:0 (Tesla T4, 15102MiB)\n",
            "Setup complete ✅ (2 CPUs, 12.7 GB RAM, 29.2/78.2 GB disk)\n"
          ]
        }
      ]
    },
    {
      "cell_type": "markdown",
      "source": [
        "# Download the datasets"
      ],
      "metadata": {
        "id": "0dee9Ok0N4Cc"
      }
    },
    {
      "cell_type": "markdown",
      "source": [
        "Real images"
      ],
      "metadata": {
        "id": "SkKEV792o8-b"
      }
    },
    {
      "cell_type": "code",
      "source": [
        "### Datasets of annotated images from Roboflow\n",
        "# There are two different datasets, so they would have to be merged\n",
        "\n",
        "rf = Roboflow(api_key = k1)\n",
        "\n",
        "print(rf.workspace())\n",
        "\n",
        "# Real images download\n",
        "project = rf.workspace(\"reality-check\").project(\"reality_check_ai_detection-2\")\n",
        "version = project.version(1)\n",
        "dataset = version.download(\"yolov8\")"
      ],
      "metadata": {
        "id": "LRU05ChCNU3V"
      },
      "execution_count": null,
      "outputs": []
    },
    {
      "cell_type": "markdown",
      "source": [
        "Fake images"
      ],
      "metadata": {
        "id": "uj2E8DcLpCUy"
      }
    },
    {
      "cell_type": "code",
      "source": [
        "rf2 = Roboflow(api_key = k2)\n",
        "\n",
        "print(rf2.workspace())\n",
        "\n",
        "# Fake images download\n",
        "project2 = rf2.workspace(\"reality-check-lx25q\").project(\"fake-images-2\")\n",
        "version2 = project.version(1)\n",
        "dataset2 = version.download(\"yolov8\")"
      ],
      "metadata": {
        "id": "paYS8plbpBTg"
      },
      "execution_count": null,
      "outputs": []
    },
    {
      "cell_type": "markdown",
      "source": [
        "# Make directories for the 'Train,' 'Test,' and 'Validation' images"
      ],
      "metadata": {
        "id": "R9d2GExPp_t4"
      }
    },
    {
      "cell_type": "code",
      "source": [
        "# TODO: merge the datasets of real and fake images\n",
        "# Train the model\n",
        "# Test and validate:\n",
        "# Work on deployment"
      ],
      "metadata": {
        "id": "1zFhyw3rNGlX"
      },
      "execution_count": null,
      "outputs": []
    },
    {
      "cell_type": "markdown",
      "source": [
        "# Train the model"
      ],
      "metadata": {
        "id": "r_YRhgH8qMZh"
      }
    },
    {
      "cell_type": "code",
      "source": [],
      "metadata": {
        "id": "k-A2xgpBqLy2"
      },
      "execution_count": null,
      "outputs": []
    },
    {
      "cell_type": "markdown",
      "source": [
        "# Validation and Testing"
      ],
      "metadata": {
        "id": "nHOJrhRaqpED"
      }
    },
    {
      "cell_type": "code",
      "source": [],
      "metadata": {
        "id": "fSnDT9ctqoWf"
      },
      "execution_count": null,
      "outputs": []
    }
  ]
}